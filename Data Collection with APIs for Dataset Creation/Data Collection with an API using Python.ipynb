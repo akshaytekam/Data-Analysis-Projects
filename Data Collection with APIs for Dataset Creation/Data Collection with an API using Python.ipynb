{
 "cells": [
  {
   "cell_type": "markdown",
   "id": "eadcefb5",
   "metadata": {},
   "source": [
    "**Now, follow the process mentioned below to sign up for using the API for data collection:**\n",
    "\n",
    "- Create a Spotify Developer account at Spotify for Developers.\n",
    "- Go to Create an App and get your Client ID and Client Secret."
   ]
  },
  {
   "cell_type": "markdown",
   "id": "eaa6c16b",
   "metadata": {},
   "source": [
    "### Now, let’s start with the data collection task with the Spotify API. I’ll first write code to authenticate with the Spotify API and obtain an access token using the Client Credentials Flow:"
   ]
  },
  {
   "cell_type": "code",
   "execution_count": 8,
   "id": "b20a9009",
   "metadata": {},
   "outputs": [],
   "source": [
    "import requests\n",
    "import base64"
   ]
  },
  {
   "cell_type": "code",
   "execution_count": 10,
   "id": "1e578586",
   "metadata": {},
   "outputs": [
    {
     "name": "stdout",
     "output_type": "stream",
     "text": [
      "Access token obtained successfully.\n"
     ]
    }
   ],
   "source": [
    "# replace with your own client id and client secret\n",
    "CLIENT_ID = 'c966daa5e8a746109910755539344e79'\n",
    "CLIENT_SECRET = 'b441711b343142e3a953d2797b83dcf6'\n",
    "\n",
    "# Base64 encode the client id and client secret\n",
    "client_credentials = f\"{CLIENT_ID}:{CLIENT_SECRET}\"\n",
    "client_credentials_base64 = base64.b64encode(client_credentials.encode())\n",
    "\n",
    "# request the access token\n",
    "token_url = 'https://accounts.spotify.com/api/token'\n",
    "headers = {\n",
    "    'Authorization': f'Basic {client_credentials_base64.decode()}'\n",
    "}\n",
    "data = {\n",
    "    'grant_type': 'client_credentials'\n",
    "}\n",
    "response = requests.post(token_url, data=data, headers=headers)\n",
    "\n",
    "if response.status_code == 200:\n",
    "    access_token = response.json()['access_token']\n",
    "    print(\"Access token obtained successfully.\")\n",
    "else:\n",
    "    print(\"Error obtaining access token.\")\n",
    "    exit()"
   ]
  },
  {
   "cell_type": "code",
   "execution_count": 11,
   "id": "f004ff71",
   "metadata": {},
   "outputs": [
    {
     "name": "stdout",
     "output_type": "stream",
     "text": [
      "Collecting spotipy\n",
      "  Downloading spotipy-2.24.0-py3-none-any.whl (30 kB)\n",
      "Requirement already satisfied: urllib3>=1.26.0 in f:\\anaconda3\\lib\\site-packages (from spotipy) (1.26.14)\n",
      "Collecting redis>=3.5.3\n",
      "  Downloading redis-5.0.8-py3-none-any.whl (255 kB)\n",
      "     -------------------------------------- 255.6/255.6 kB 2.0 MB/s eta 0:00:00\n",
      "Requirement already satisfied: requests>=2.25.0 in f:\\anaconda3\\lib\\site-packages (from spotipy) (2.28.1)\n",
      "Requirement already satisfied: async-timeout>=4.0.3 in f:\\anaconda3\\lib\\site-packages (from redis>=3.5.3->spotipy) (4.0.3)\n",
      "Requirement already satisfied: idna<4,>=2.5 in f:\\anaconda3\\lib\\site-packages (from requests>=2.25.0->spotipy) (3.4)\n",
      "Requirement already satisfied: charset-normalizer<3,>=2 in f:\\anaconda3\\lib\\site-packages (from requests>=2.25.0->spotipy) (2.0.4)\n",
      "Requirement already satisfied: certifi>=2017.4.17 in f:\\anaconda3\\lib\\site-packages (from requests>=2.25.0->spotipy) (2022.12.7)\n",
      "Installing collected packages: redis, spotipy\n",
      "Successfully installed redis-5.0.8 spotipy-2.24.0\n"
     ]
    }
   ],
   "source": [
    "!pip install spotipy"
   ]
  },
  {
   "cell_type": "markdown",
   "id": "395640d8",
   "metadata": {},
   "source": [
    "### Now, I’ll write a Python function to extract detailed information about each track in any Spotify playlist:"
   ]
  },
  {
   "cell_type": "code",
   "execution_count": 12,
   "id": "1d1f1c01",
   "metadata": {},
   "outputs": [],
   "source": [
    "import pandas as pd\n",
    "import spotipy\n",
    "from spotipy.oauth2 import SpotifyOAuth\n",
    "\n",
    "def get_trending_playlist_data(playlist_id, access_token):\n",
    "    # set up spotipy with the access token\n",
    "    sp = spotipy.Spotify(auth=access_token)\n",
    "\n",
    "    # get the tracks from the playlist\n",
    "    playlist_tracks = sp.playlist_tracks(playlist_id, fields='items(track(id, name, artists, album(id, name)))')\n",
    "\n",
    "    # extract relevant information and store in a list of dictionaries\n",
    "    music_data = []\n",
    "    for track_info in playlist_tracks['items']:\n",
    "        track = track_info['track']\n",
    "        track_name = track['name']\n",
    "        artists = ', '.join([artist['name'] for artist in track['artists']])\n",
    "        album_name = track['album']['name']\n",
    "        album_id = track['album']['id']\n",
    "        track_id = track['id']\n",
    "\n",
    "        # get audio features for the track\n",
    "        audio_features = sp.audio_features(track_id)[0] if track_id != 'Not available' else None\n",
    "\n",
    "        # get release date of the album\n",
    "        try:\n",
    "            album_info = sp.album(album_id) if album_id != 'Not available' else None\n",
    "            release_date = album_info['release_date'] if album_info else None\n",
    "        except:\n",
    "            release_date = None\n",
    "\n",
    "        # get popularity of the track\n",
    "        try:\n",
    "            track_info = sp.track(track_id) if track_id != 'Not available' else None\n",
    "            popularity = track_info['popularity'] if track_info else None\n",
    "        except:\n",
    "            popularity = None\n",
    "\n",
    "        # add additional track information to the track data\n",
    "        track_data = {\n",
    "            'Track Name': track_name,\n",
    "            'Artists': artists,\n",
    "            'Album Name': album_name,\n",
    "            'Album ID': album_id,\n",
    "            'Track ID': track_id,\n",
    "            'Popularity': popularity,\n",
    "            'Release Date': release_date,\n",
    "            'Duration (ms)': audio_features['duration_ms'] if audio_features else None,\n",
    "            'Explicit': track_info.get('explicit', None),\n",
    "            'External URLs': track_info.get('external_urls', {}).get('spotify', None),\n",
    "            'Danceability': audio_features['danceability'] if audio_features else None,\n",
    "            'Energy': audio_features['energy'] if audio_features else None,\n",
    "            'Key': audio_features['key'] if audio_features else None,\n",
    "            'Loudness': audio_features['loudness'] if audio_features else None,\n",
    "            'Mode': audio_features['mode'] if audio_features else None,\n",
    "            'Speechiness': audio_features['speechiness'] if audio_features else None,\n",
    "            'Acousticness': audio_features['acousticness'] if audio_features else None,\n",
    "            'Instrumentalness': audio_features['instrumentalness'] if audio_features else None,\n",
    "            'Liveness': audio_features['liveness'] if audio_features else None,\n",
    "            'Valence': audio_features['valence'] if audio_features else None,\n",
    "            'Tempo': audio_features['tempo'] if audio_features else None,\n",
    "            # add more attributes as needed (go through the documentation to know what more you can add)\n",
    "        }\n",
    "\n",
    "        music_data.append(track_data)\n",
    "\n",
    "    # create a pandas dataframe from the list of dictionaries\n",
    "    df = pd.DataFrame(music_data)\n",
    "\n",
    "    return df"
   ]
  },
  {
   "cell_type": "markdown",
   "id": "44b3b8f9",
   "metadata": {},
   "source": [
    "### Now, let’s use our function get_trending_playlist_data using a specific Spotify playlist ID and an already obtained access token:"
   ]
  },
  {
   "cell_type": "code",
   "execution_count": 13,
   "id": "8b81d854",
   "metadata": {},
   "outputs": [
    {
     "name": "stdout",
     "output_type": "stream",
     "text": [
      "                                     Track Name  \\\n",
      "0                                 Bijlee Bijlee   \n",
      "1                                   Expert Jatt   \n",
      "2   Kaun Nachdi (From \"Sonu Ke Titu Ki Sweety\")   \n",
      "3                                   Na Na Na Na   \n",
      "4                                   Patiala Peg   \n",
      "..                                          ...   \n",
      "95                                                \n",
      "96                               Move Your Lakk   \n",
      "97                    Patola (From \"Blackmail\")   \n",
      "98            Ban Ja Rani (From \"Tumhari Sulu\")   \n",
      "99          Hauli Hauli (From \"De De Pyaar De\")   \n",
      "\n",
      "                                    Artists  \\\n",
      "0                             Harrdy Sandhu   \n",
      "1                                     Nawab   \n",
      "2                Guru Randhawa, Neeti Mohan   \n",
      "3                                    J Star   \n",
      "4                            Diljit Dosanjh   \n",
      "..                                      ...   \n",
      "95                                            \n",
      "96  Diljit Dosanjh, Badshah, Sonakshi Sinha   \n",
      "97              Guru Randhawa, Preet Hundal   \n",
      "98                            Guru Randhawa   \n",
      "99      Garry Sandhu, Neha Kakkar, Mellow D   \n",
      "\n",
      "                           Album Name                Album ID  \\\n",
      "0                       Bijlee Bijlee  3tG0IGB24sRhGFLs5F1Km8   \n",
      "1                         Expert Jatt  2gibg5SCTep0wsIMefGzkd   \n",
      "2    High Rated Gabru - Guru Randhawa  6EDbwGsQNQRLf73c7QwZ2f   \n",
      "3                         Na Na Na Na  4xBqgoiRSOMU1VlKuntVQW   \n",
      "4   Do Gabru - Diljit Dosanjh & Akhil  1uxDllRe9CPhdr8rhz2QCZ   \n",
      "..                                ...                     ...   \n",
      "95                                     2jw92hf4mnISbYywvU3Anj   \n",
      "96                     Move Your Lakk  0V06TMGQQQkvKxNmFlKyEj   \n",
      "97          Patola (From \"Blackmail\")  2XAAIDEpPb57NsKgAHLGVQ   \n",
      "98   High Rated Gabru - Guru Randhawa  6EDbwGsQNQRLf73c7QwZ2f   \n",
      "99                     Dance Syndrome  6e1XB070vlPaxGDAsi8AF6   \n",
      "\n",
      "                  Track ID  Popularity Release Date  Duration (ms)  Explicit  \\\n",
      "0   1iZLpuGMr4tn1F5bZu32Kb          67   2021-10-30         168450     False   \n",
      "1   7rr6n1NFIcQXCsi43P0YNl          63   2018-01-18         199535     False   \n",
      "2   3s7m0jmCXGcM8tmlvjCvAa          61   2019-03-02         183373     False   \n",
      "3   5GjxbFTZAMhrVfVrNrrwrG          54         2015         209730     False   \n",
      "4   6TikcWOLRsPq66GBx2jk67          46   2018-07-10         188314     False   \n",
      "..                     ...         ...          ...            ...       ...   \n",
      "95  3OZr3vo7SmYpn5XqeQEAOM           0         0000         203207     False   \n",
      "96  3aYMKdSitJeHUCZO8Wt6fw          48   2017-03-29         194568     False   \n",
      "97  17LZzRCY0iFWlDDuAG7BlM          55   2018-03-05         184410     False   \n",
      "98  7cQtGVoPCK9DlspeYjdHOA          57   2019-03-02         225938     False   \n",
      "99  4XyKoSEWrkQjI4AekJYWNx          34   2019-09-03         209393     False   \n",
      "\n",
      "                                        External URLs  ...  Energy  Key  \\\n",
      "0   https://open.spotify.com/track/1iZLpuGMr4tn1F5...  ...   0.670    1   \n",
      "1   https://open.spotify.com/track/7rr6n1NFIcQXCsi...  ...   0.948    6   \n",
      "2   https://open.spotify.com/track/3s7m0jmCXGcM8tm...  ...   0.830    4   \n",
      "3   https://open.spotify.com/track/5GjxbFTZAMhrVfV...  ...   0.863    3   \n",
      "4   https://open.spotify.com/track/6TikcWOLRsPq66G...  ...   0.811    5   \n",
      "..                                                ...  ...     ...  ...   \n",
      "95  https://open.spotify.com/track/3OZr3vo7SmYpn5X...  ...   0.842    6   \n",
      "96  https://open.spotify.com/track/3aYMKdSitJeHUCZ...  ...   0.816    2   \n",
      "97  https://open.spotify.com/track/17LZzRCY0iFWlDD...  ...   0.901    3   \n",
      "98  https://open.spotify.com/track/7cQtGVoPCK9Dlsp...  ...   0.692    9   \n",
      "99  https://open.spotify.com/track/4XyKoSEWrkQjI4A...  ...   0.982    1   \n",
      "\n",
      "    Loudness  Mode  Speechiness  Acousticness  Instrumentalness  Liveness  \\\n",
      "0     -5.313     0       0.1430       0.26900          0.000000    0.0733   \n",
      "1     -2.816     0       0.1990       0.29800          0.000000    0.0784   \n",
      "2     -3.981     0       0.0455       0.03570          0.000000    0.0419   \n",
      "3     -3.760     1       0.0413       0.37600          0.000014    0.0916   \n",
      "4     -3.253     0       0.1840       0.02590          0.000000    0.3110   \n",
      "..       ...   ...          ...           ...               ...       ...   \n",
      "95    -4.109     1       0.0745       0.00814          0.000013    0.2120   \n",
      "96    -5.595     1       0.1480       0.03790          0.000153    0.1230   \n",
      "97    -2.719     0       0.0508       0.12600          0.000000    0.0692   \n",
      "98    -4.718     0       0.0577       0.20600          0.000000    0.1240   \n",
      "99    -3.376     1       0.0788       0.02120          0.000032    0.3370   \n",
      "\n",
      "    Valence    Tempo  \n",
      "0     0.643  100.004  \n",
      "1     0.647  172.038  \n",
      "2     0.753  127.999  \n",
      "3     0.807   95.000  \n",
      "4     0.835  175.910  \n",
      "..      ...      ...  \n",
      "95    0.915  156.051  \n",
      "96    0.744   99.992  \n",
      "97    0.914   87.998  \n",
      "98    0.487  102.015  \n",
      "99    0.571   94.990  \n",
      "\n",
      "[100 rows x 21 columns]\n"
     ]
    }
   ],
   "source": [
    "# you can add the playlist id of any playlist on Spotify here\n",
    "playlist_id = '1gfWsOG1WAoxNeUMMktZbq'\n",
    "\n",
    "# call the function to get the music data from the playlist and store it in a DataFrame\n",
    "music_df = get_trending_playlist_data(playlist_id, access_token)\n",
    "\n",
    "print(music_df)"
   ]
  },
  {
   "cell_type": "code",
   "execution_count": 14,
   "id": "ca528781",
   "metadata": {},
   "outputs": [],
   "source": [
    "music_df.to_csv(\"musicdata.csv\")"
   ]
  },
  {
   "cell_type": "code",
   "execution_count": null,
   "id": "bcc33133",
   "metadata": {},
   "outputs": [],
   "source": []
  }
 ],
 "metadata": {
  "kernelspec": {
   "display_name": "Python 3 (ipykernel)",
   "language": "python",
   "name": "python3"
  },
  "language_info": {
   "codemirror_mode": {
    "name": "ipython",
    "version": 3
   },
   "file_extension": ".py",
   "mimetype": "text/x-python",
   "name": "python",
   "nbconvert_exporter": "python",
   "pygments_lexer": "ipython3",
   "version": "3.10.9"
  }
 },
 "nbformat": 4,
 "nbformat_minor": 5
}
